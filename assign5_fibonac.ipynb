{
 "cells": [
  {
   "cell_type": "code",
   "execution_count": 3,
   "metadata": {},
   "outputs": [
    {
     "name": "stdout",
     "output_type": "stream",
     "text": [
      "[1, 1, 2, 3, 5, 8, 13, 21, 34, 55]\n"
     ]
    }
   ],
   "source": [
    "\"\"\"\n",
    "Task : Create a list consisting of Fibonacci numbers \n",
    "from 1 to 55 using control flow statements.\n",
    "The desired output is like :\n",
    "fibonacci →  [1, 1, 2, 3, 5, 8, 13, 21, 34, 55]\n",
    "\"\"\"\n",
    "fibolist = []\n",
    "num = 1\n",
    "pre_num = 0\n",
    "temp = 0\n",
    "while num <= 55:\n",
    "    fibolist.append(num)\n",
    "    temp = num\n",
    "    num += pre_num\n",
    "    pre_num = temp\n",
    "print(fibolist)"
   ]
  },
  {
   "cell_type": "code",
   "execution_count": null,
   "metadata": {},
   "outputs": [],
   "source": []
  }
 ],
 "metadata": {
  "kernelspec": {
   "display_name": "Python 3",
   "language": "python",
   "name": "python3"
  },
  "language_info": {
   "codemirror_mode": {
    "name": "ipython",
    "version": 3
   },
   "file_extension": ".py",
   "mimetype": "text/x-python",
   "name": "python",
   "nbconvert_exporter": "python",
   "pygments_lexer": "ipython3",
   "version": "3.7.6"
  }
 },
 "nbformat": 4,
 "nbformat_minor": 4
}
