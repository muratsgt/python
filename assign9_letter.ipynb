{
 "cells": [
  {
   "cell_type": "code",
   "execution_count": 5,
   "metadata": {},
   "outputs": [
    {
     "name": "stdin",
     "output_type": "stream",
     "text": [
      "Please enter your sentence  : hippo runs to us!\n"
     ]
    },
    {
     "name": "stdout",
     "output_type": "stream",
     "text": [
      "{'u': 2, 'o': 2, 'r': 1, ' ': 3, 'i': 1, 't': 1, 'n': 1, 's': 2, 'p': 2, 'h': 1, '!': 1}\n"
     ]
    }
   ],
   "source": [
    "\"\"\"\n",
    "Count the number of each letter in a sentence.\n",
    "The department you work for undertook a project construction that makes word / text analysis. \n",
    "You are asked to calculate the number of letters or any chars in the sentences entered under this project.\n",
    "Write a Python program that;\n",
    "takes a sentence from the user,\n",
    "counts the number of each letter of the sentence,\n",
    "collects the letters/chars as a key and the counted numbers as a value in a dictionary.\n",
    "\"\"\"\n",
    "\n",
    "sentence = input(\"Please enter your sentence  :\")\n",
    "sent_set = set(sentence)\n",
    "mydict = {}\n",
    "for i in sent_set:\n",
    "    mydict[i] = sentence.count(i)\n",
    "print(mydict)"
   ]
  }
 ],
 "metadata": {
  "kernelspec": {
   "display_name": "Python 3",
   "language": "python",
   "name": "python3"
  },
  "language_info": {
   "codemirror_mode": {
    "name": "ipython",
    "version": 3
   },
   "file_extension": ".py",
   "mimetype": "text/x-python",
   "name": "python",
   "nbconvert_exporter": "python",
   "pygments_lexer": "ipython3",
   "version": "3.7.6"
  }
 },
 "nbformat": 4,
 "nbformat_minor": 4
}
