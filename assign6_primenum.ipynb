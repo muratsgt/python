{
 "cells": [
  {
   "cell_type": "code",
   "execution_count": 1,
   "metadata": {},
   "outputs": [
    {
     "name": "stdin",
     "output_type": "stream",
     "text": [
      "Enter a number:  100\n"
     ]
    },
    {
     "name": "stdout",
     "output_type": "stream",
     "text": [
      "[2, 3, 5, 7, 11, 13, 17, 19, 23, 29, 31, 37, 41, 43, 47, 53, 59, 61, 67, 71, 73, 79, 83, 89, 97]\n"
     ]
    }
   ],
   "source": [
    "\"\"\"\n",
    "Task : Print the prime numbers which are between 1 to entered limit number (n).\n",
    "\n",
    "You can use a nested for loop.\n",
    "Collect all these numbers into a list\n",
    "The desired output for n=100 :\n",
    "\"\"\"\n",
    "number = input(\"Enter a number: \")\n",
    "while not number.isdigit():  # to check the input integer\n",
    "    number = input(\"Please enter a positive integer: \")\n",
    "prime_list = []  # list, keeps the prime numbers\n",
    "numint = int(number)\n",
    "\n",
    "for i in range(2,numint+1):  # to iterate every number\n",
    "    prime = True\n",
    "    for ii in range(2,i):  # to check if the number is prime\n",
    "        if i % ii == 0:\n",
    "            prime = False\n",
    "    if prime == True:\n",
    "        prime_list.append(i)  # add the number to the list\n",
    "print(prime_list)            "
   ]
  },
  {
   "cell_type": "code",
   "execution_count": null,
   "metadata": {},
   "outputs": [],
   "source": []
  }
 ],
 "metadata": {
  "kernelspec": {
   "display_name": "Python 3",
   "language": "python",
   "name": "python3"
  },
  "language_info": {
   "codemirror_mode": {
    "name": "ipython",
    "version": 3
   },
   "file_extension": ".py",
   "mimetype": "text/x-python",
   "name": "python",
   "nbconvert_exporter": "python",
   "pygments_lexer": "ipython3",
   "version": "3.7.6"
  }
 },
 "nbformat": 4,
 "nbformat_minor": 4
}
