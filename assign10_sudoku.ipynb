{
 "cells": [
  {
   "cell_type": "code",
   "execution_count": 7,
   "metadata": {},
   "outputs": [
    {
     "name": "stdout",
     "output_type": "stream",
     "text": [
      "- - - - - - - - - - - - - - - \n",
      "0  0  0  | 0  6  4  | 0  0  0  \n",
      "7  0  0  | 0  0  0  | 3  9  0  \n",
      "8  0  0  | 0  0  0  | 0  0  0  \n",
      "- - - - - - - - - - - - - - - \n",
      "0  0  0  | 5  0  2  | 0  6  0  \n",
      "0  8  0  | 4  0  0  | 0  0  0  \n",
      "3  5  0  | 6  0  0  | 0  7  0  \n",
      "- - - - - - - - - - - - - - - \n",
      "0  0  2  | 0  0  0  | 1  0  3  \n",
      "0  0  1  | 0  5  9  | 0  0  0  \n",
      "0  0  0  | 0  0  0  | 7  0  0  \n",
      "- - - - - - - - - - - - - - - \n"
     ]
    }
   ],
   "source": [
    "\"\"\"\n",
    "Task: The department you work for has received a project that displays \n",
    "the solved sudoku puzzles in a digital environment. \n",
    "\n",
    "Write a Python code to print out the given sudoku puzzle matrix in the following format.\n",
    "\n",
    "Given format :\n",
    "sudoku = [\n",
    "    [0, 0, 0, 0, 6, 4, 0, 0, 0],\n",
    "    [7, 0, 0, 0, 0, 0, 3, 9, 0],\n",
    "    [8, 0, 0, 0, 0, 0, 0, 0, 0],\n",
    "    [0, 0, 0, 5, 0, 2, 0, 6, 0],\n",
    "    [0, 8, 0, 4, 0, 0, 0, 0, 0],\n",
    "    [3, 5, 0, 6, 0, 0, 0, 7, 0],\n",
    "    [0, 0, 2, 0, 0, 0, 1, 0, 3],\n",
    "    [0, 0, 1, 0, 5, 9, 0, 0, 0],\n",
    "    [0, 0, 0, 0, 0, 0, 7, 0, 0]\n",
    "]\n",
    "Desired output format :\n",
    "- - - - - - - - - - - - - - - \n",
    "0  0  0  | 0  6  4  | 0  0  0  \n",
    "7  0  0  | 0  0  0  | 3  9  0  \n",
    "8  0  0  | 0  0  0  | 0  0  0  \n",
    "- - - - - - - - - - - - - - - \n",
    "0  0  0  | 5  0  2  | 0  6  0  \n",
    "0  8  0  | 4  0  0  | 0  0  0  \n",
    "3  5  0  | 6  0  0  | 0  7  0  \n",
    "- - - - - - - - - - - - - - - \n",
    "0  0  2  | 0  0  0  | 1  0  3  \n",
    "0  0  1  | 0  5  9  | 0  0  0  \n",
    "0  0  0  | 0  0  0  | 7  0  0  \n",
    "- - - - - - - - - - - - - - -\n",
    "\"\"\"\n",
    "\n",
    "sudoku = [\n",
    "    [0, 0, 0, 0, 6, 4, 0, 0, 0],\n",
    "    [7, 0, 0, 0, 0, 0, 3, 9, 0],\n",
    "    [8, 0, 0, 0, 0, 0, 0, 0, 0],\n",
    "    [0, 0, 0, 5, 0, 2, 0, 6, 0],\n",
    "    [0, 8, 0, 4, 0, 0, 0, 0, 0],\n",
    "    [3, 5, 0, 6, 0, 0, 0, 7, 0],\n",
    "    [0, 0, 2, 0, 0, 0, 1, 0, 3],\n",
    "    [0, 0, 1, 0, 5, 9, 0, 0, 0],\n",
    "    [0, 0, 0, 0, 0, 0, 7, 0, 0]\n",
    "]\n",
    "\n",
    "for row in range(9):\n",
    "    if row % 3 == 0: print(\"- \"*15)\n",
    "    for ii in range(9):\n",
    "        if ii % 3 == 0 and ii != 0: print(\"|\", end=\" \")\n",
    "        print(sudoku[row][ii], end=\"  \")\n",
    "    print()\n",
    "print(\"- \"*15)        \n",
    "    "
   ]
  },
  {
   "cell_type": "code",
   "execution_count": null,
   "metadata": {},
   "outputs": [],
   "source": []
  }
 ],
 "metadata": {
  "kernelspec": {
   "display_name": "Python 3",
   "language": "python",
   "name": "python3"
  },
  "language_info": {
   "codemirror_mode": {
    "name": "ipython",
    "version": 3
   },
   "file_extension": ".py",
   "mimetype": "text/x-python",
   "name": "python",
   "nbconvert_exporter": "python",
   "pygments_lexer": "ipython3",
   "version": "3.7.6"
  }
 },
 "nbformat": 4,
 "nbformat_minor": 4
}
