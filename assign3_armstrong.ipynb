{
 "cells": [
  {
   "cell_type": "code",
   "execution_count": 5,
   "metadata": {},
   "outputs": [
    {
     "name": "stdin",
     "output_type": "stream",
     "text": [
      "Please enter a positive integer number:  4535\n"
     ]
    },
    {
     "name": "stdout",
     "output_type": "stream",
     "text": [
      "4535 is not an Armstrong number\n"
     ]
    }
   ],
   "source": [
    "\"\"\"\n",
    "Task:\n",
    "Find out if a given number is an \"Armstrong Number\".\n",
    "An n-digit number that is the sum of the nth powers of its digits is called an n-Armstrong number. Examples :\n",
    "371 = 33 + 73 + 13;\n",
    "9474 = 94 + 44 + 74 + 44;\n",
    "93084 = 95 + 35 + 05 + 85 + 45.\n",
    "Write a Python program that;\n",
    "takes a positive integer number from the user,\n",
    "checks the entered number if it is Armstrong,\n",
    "consider the negative, float and any entries other than numeric values then display a warning message to the user.\n",
    "\"\"\"\n",
    "\n",
    "number = \"not\"\n",
    "while not number.isdigit():\n",
    "    number = input(\"Please enter a positive integer number: \")\n",
    "    if not number.isdigit():\n",
    "        print(\"It is an invalid entry. Don't use non-numeric, float, or negative values!\")\n",
    "\n",
    "digit_len = len(number)\n",
    "total = 0\n",
    "for i in number:\n",
    "    total += int(i)**digit_len\n",
    "if total == int(number):\n",
    "    print(\"{} is an Armstrong number\".format(number))\n",
    "else:\n",
    "    print(\"{} is not an Armstrong number\".format(number))\n",
    "    \n",
    "    \n",
    "\"\"\"\n",
    "# This gives all armstrong numbers\n",
    "\n",
    "armlist = []\n",
    "for number in range(10,10000) :\n",
    "    total = 0\n",
    "    digit_len = len(str(number))\n",
    "    for ii in str(number) :\n",
    "        total += int(ii) ** digit_len\n",
    "    if total == number : armlist.append(number)\n",
    "print(armlist)\n",
    "\"\"\""
   ]
  },
  {
   "cell_type": "code",
   "execution_count": null,
   "metadata": {},
   "outputs": [],
   "source": []
  }
 ],
 "metadata": {
  "kernelspec": {
   "display_name": "Python 3",
   "language": "python",
   "name": "python3"
  },
  "language_info": {
   "codemirror_mode": {
    "name": "ipython",
    "version": 3
   },
   "file_extension": ".py",
   "mimetype": "text/x-python",
   "name": "python",
   "nbconvert_exporter": "python",
   "pygments_lexer": "ipython3",
   "version": "3.7.6"
  }
 },
 "nbformat": 4,
 "nbformat_minor": 4
}
