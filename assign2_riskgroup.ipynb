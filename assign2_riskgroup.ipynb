{
 "cells": [
  {
   "cell_type": "code",
   "execution_count": 10,
   "metadata": {},
   "outputs": [
    {
     "name": "stdin",
     "output_type": "stream",
     "text": [
      "Are you a cigarette addict older than 75 years old? (Yes or No) no\n",
      "Do you have a severe chronic disease? (Yes or No) yEs\n",
      "Is your immune system too weak? (Yes or No) no\n"
     ]
    },
    {
     "name": "stdout",
     "output_type": "stream",
     "text": [
      "You are not in risky group\n"
     ]
    }
   ],
   "source": [
    "\"\"\"\n",
    "Problem :\n",
    "Task : Estimating the risk of death from coronavirus. Write a program that;\n",
    "Takes \"Yes\" or \"No\" from the user as an answer to the following questions :\n",
    "Are you a cigarette addict older than 75 years old? Variable → age\n",
    "Do you have a severe chronic disease? Variable → chronic\n",
    "Is your immune system too weak? Variable → immune\n",
    "Set a logical algorithm using boolean logic operators (and/or) \n",
    "and use if-statements with the given variables in order to \n",
    "print out us a message : \"You are in risky group\"(if True ) or \n",
    "\"You are not in risky group\" (if False).\n",
    "\"\"\"\n",
    "age, chronic, immune = False, False, False\n",
    "age_ans = input('Are you a cigarette addict older than 75 years old? (Yes or No)').lower\n",
    "if age_ans == \"yes\": age = True\n",
    "chronic_ans = input('Do you have a severe chronic disease? (Yes or No)').lower\n",
    "if chronic_ans == \"yes\": chronic = True\n",
    "immune_ans = input('Is your immune system too weak? (Yes or No)').lower\n",
    "if immune_ans == \"yes\": immune = True        \n",
    "\n",
    "if age or chronic or immune:\n",
    "    print('You are in risky group')\n",
    "else:\n",
    "    print('You are not in risky group')\n"
   ]
  },
  {
   "cell_type": "code",
   "execution_count": null,
   "metadata": {},
   "outputs": [],
   "source": []
  }
 ],
 "metadata": {
  "kernelspec": {
   "display_name": "Python 3",
   "language": "python",
   "name": "python3"
  },
  "language_info": {
   "codemirror_mode": {
    "name": "ipython",
    "version": 3
   },
   "file_extension": ".py",
   "mimetype": "text/x-python",
   "name": "python",
   "nbconvert_exporter": "python",
   "pygments_lexer": "ipython3",
   "version": "3.7.6"
  }
 },
 "nbformat": 4,
 "nbformat_minor": 4
}
