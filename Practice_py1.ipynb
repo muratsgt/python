{
 "cells": [
  {
   "cell_type": "code",
   "execution_count": 3,
   "metadata": {},
   "outputs": [
    {
     "name": "stdin",
     "output_type": "stream",
     "text": [
      "Guess the number, number is between 1 and 9:  ea\n"
     ]
    },
    {
     "name": "stdout",
     "output_type": "stream",
     "text": [
      "please enter just a number\n"
     ]
    },
    {
     "name": "stdin",
     "output_type": "stream",
     "text": [
      "Guess the number, number is between 1 and 9:  ass\n"
     ]
    },
    {
     "name": "stdout",
     "output_type": "stream",
     "text": [
      "please enter just a number\n"
     ]
    },
    {
     "name": "stdin",
     "output_type": "stream",
     "text": [
      "Guess the number, number is between 1 and 9:  2\n"
     ]
    },
    {
     "name": "stdout",
     "output_type": "stream",
     "text": [
      "Your guess is too low\n"
     ]
    },
    {
     "name": "stdin",
     "output_type": "stream",
     "text": [
      "Guess the number, number is between 1 and 9:  6\n"
     ]
    },
    {
     "name": "stdout",
     "output_type": "stream",
     "text": [
      "Your guess is too high\n"
     ]
    },
    {
     "name": "stdin",
     "output_type": "stream",
     "text": [
      "Guess the number, number is between 1 and 9:  4\n"
     ]
    },
    {
     "name": "stdout",
     "output_type": "stream",
     "text": [
      "You guessed right!\n",
      "You tried 5 times to find the answer.\n"
     ]
    }
   ],
   "source": [
    "\"\"\"\n",
    "Generate a random number between 1 and 9 (including 1 and 9). \n",
    "Ask the user to guess the number, then tell them whether they guessed too low, \n",
    "too high, or exactly right. \n",
    "Extras:\n",
    "Keep the game going until the user types “exit”\n",
    "Keep track of how many guesses the user has taken, \n",
    "and when the game ends, print this out.\n",
    "\"\"\"\n",
    "import random\n",
    "my_num = random.randint(1,9)\n",
    "gues_count = 0\n",
    "while True:\n",
    "    guess = input(\"Guess the number, number is between 1 and 9: \")\n",
    "    gues_count += 1\n",
    "    if guess == \"exit\":\n",
    "        break\n",
    "    elif not guess.isdigit():\n",
    "        print(\"please enter just a number\")\n",
    "    elif int(guess) == my_num:\n",
    "        print(\"You guessed right!\")\n",
    "        break\n",
    "    elif int(guess) < my_num:\n",
    "        print(\"Your guess is too low\")\n",
    "    elif int(guess) > my_num:\n",
    "        print(\"Your guess is too high\")\n",
    "print(\"You tried {} times to find the answer.\".format(gues_count))\n"
   ]
  },
  {
   "cell_type": "code",
   "execution_count": null,
   "metadata": {},
   "outputs": [],
   "source": []
  }
 ],
 "metadata": {
  "kernelspec": {
   "display_name": "Python 3",
   "language": "python",
   "name": "python3"
  },
  "language_info": {
   "codemirror_mode": {
    "name": "ipython",
    "version": 3
   },
   "file_extension": ".py",
   "mimetype": "text/x-python",
   "name": "python",
   "nbconvert_exporter": "python",
   "pygments_lexer": "ipython3",
   "version": "3.7.6"
  }
 },
 "nbformat": 4,
 "nbformat_minor": 4
}
