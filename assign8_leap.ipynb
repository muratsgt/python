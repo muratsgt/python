{
 "cells": [
  {
   "cell_type": "code",
   "execution_count": 10,
   "metadata": {},
   "outputs": [
    {
     "name": "stdin",
     "output_type": "stream",
     "text": [
      "Enter the year:  -100\n",
      "Please enter just the year, such as; 2020:  ef\n",
      "Please enter just the year, such as; 2020:  2020\n"
     ]
    },
    {
     "name": "stdout",
     "output_type": "stream",
     "text": [
      "2020 is a leap year\n"
     ]
    }
   ],
   "source": [
    "\"\"\"\n",
    "Find out if a given year is a \"leap\" year.\n",
    "\n",
    "In the Gregorian calendar, three criteria must be taken into account to identify leap years:\n",
    "The year must be evenly divisible by 4;\n",
    "If the year can also be evenly divided by 100, it is not a leap year; unless...\n",
    "The year is also evenly divisible by 400. Then it is a leap year.\n",
    "According to these rules, the years 2000 and 2400 are leap years, \n",
    "while 1800, 1900, 2100, 2200, 2300, and 2500 are not the leap years.\n",
    "Write a Python program that prints such as \"2020 is a leap year\" \n",
    "if the given year by the user is a leap year, prints such as \"2019 is not a leap year\" otherwise.\n",
    "\"\"\"\n",
    "# get the input\n",
    "year_inp = input(\"Enter the year: \")  \n",
    "while not year_inp.isdigit():\n",
    "    year_inp = input(\"Please enter just the year, such as; 2020: \")\n",
    "year = int(year_inp)\n",
    "\n",
    "# check if leap year\n",
    "if year % 400 == 0:\n",
    "    leap = True\n",
    "elif year % 100 == 0:\n",
    "    leap = False\n",
    "elif year % 4 == 0:\n",
    "    leap = True\n",
    "else:\n",
    "    leap = False\n",
    "\n",
    "# print result\n",
    "if leap:\n",
    "    print(f\"{year} is a leap year\")\n",
    "else:\n",
    "    print(f\"{year} is not a leap year\")"
   ]
  },
  {
   "cell_type": "code",
   "execution_count": null,
   "metadata": {},
   "outputs": [],
   "source": []
  }
 ],
 "metadata": {
  "kernelspec": {
   "display_name": "Python 3",
   "language": "python",
   "name": "python3"
  },
  "language_info": {
   "codemirror_mode": {
    "name": "ipython",
    "version": 3
   },
   "file_extension": ".py",
   "mimetype": "text/x-python",
   "name": "python",
   "nbconvert_exporter": "python",
   "pygments_lexer": "ipython3",
   "version": "3.7.6"
  }
 },
 "nbformat": 4,
 "nbformat_minor": 4
}
