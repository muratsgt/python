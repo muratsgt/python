{
 "cells": [
  {
   "cell_type": "code",
   "execution_count": 28,
   "metadata": {},
   "outputs": [
    {
     "name": "stdin",
     "output_type": "stream",
     "text": [
      "Enter a number:  0\n"
     ]
    },
    {
     "name": "stdout",
     "output_type": "stream",
     "text": [
      "0 is not a prime number\n"
     ]
    }
   ],
   "source": [
    "\"\"\"\n",
    "Task : Write a program that takes a number from the user \n",
    "and prints the result to check if it is a prime number.\n",
    "\"\"\"\n",
    "number = input(\"Enter a number: \")\n",
    "while not number.isdigit():\n",
    "    number = input(\"Please enter a positive integer number: \")\n",
    "num = int(number)\n",
    "prime = True\n",
    "for i in range(2,num) :\n",
    "    if num % i == 0 :\n",
    "        prime = False\n",
    "        break\n",
    "if num < 2 : prime = False\n",
    "if prime: print(f\"{num} is a prime number\")\n",
    "else: print(f\"{num} is not a prime number\")"
   ]
  },
  {
   "cell_type": "code",
   "execution_count": null,
   "metadata": {},
   "outputs": [],
   "source": []
  }
 ],
 "metadata": {
  "kernelspec": {
   "display_name": "Python 3",
   "language": "python",
   "name": "python3"
  },
  "language_info": {
   "codemirror_mode": {
    "name": "ipython",
    "version": 3
   },
   "file_extension": ".py",
   "mimetype": "text/x-python",
   "name": "python",
   "nbconvert_exporter": "python",
   "pygments_lexer": "ipython3",
   "version": "3.7.6"
  }
 },
 "nbformat": 4,
 "nbformat_minor": 4
}
