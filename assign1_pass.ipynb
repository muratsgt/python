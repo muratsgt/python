{
 "cells": [
  {
   "cell_type": "code",
   "execution_count": 3,
   "metadata": {},
   "outputs": [
    {
     "name": "stdin",
     "output_type": "stream",
     "text": [
      "Please enter your name:  Murat\n"
     ]
    },
    {
     "name": "stdout",
     "output_type": "stream",
     "text": [
      "Hello, Murat! The password is W@12\n"
     ]
    }
   ],
   "source": [
    "\"\"\"\n",
    "Write a program that \n",
    "Takes the first name from the user and compares it to yours,\n",
    "Then if the name the user entered is the same as yours, print out such as : \n",
    "\"Hello, Joseph! The password is : W@12\",\n",
    "If the name the user entered is not the same as yours, print out such as : \n",
    "\"Hello, Amina! See you later.\"\n",
    "\"\"\"\n",
    "myname = \"murat\"\n",
    "password = \"W@12\"\n",
    "username = input(\"Please enter your name: \").lower()\n",
    "if myname == username:\n",
    "    print(\"Hello, {}! The password is {}\".format(username.capitalize(), password))\n",
    "else:\n",
    "    print(\"Hello, {}! See you later.\".format(username.capitalize()))"
   ]
  },
  {
   "cell_type": "code",
   "execution_count": null,
   "metadata": {},
   "outputs": [],
   "source": []
  }
 ],
 "metadata": {
  "kernelspec": {
   "display_name": "Python 3",
   "language": "python",
   "name": "python3"
  },
  "language_info": {
   "codemirror_mode": {
    "name": "ipython",
    "version": 3
   },
   "file_extension": ".py",
   "mimetype": "text/x-python",
   "name": "python",
   "nbconvert_exporter": "python",
   "pygments_lexer": "ipython3",
   "version": "3.7.6"
  }
 },
 "nbformat": 4,
 "nbformat_minor": 4
}
